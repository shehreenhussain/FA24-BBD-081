{
 "cells": [
  {
   "cell_type": "code",
   "execution_count": 2,
   "id": "9509cce2-9587-4c55-8e05-e9d1ecb9766d",
   "metadata": {},
   "outputs": [
    {
     "name": "stdout",
     "output_type": "stream",
     "text": [
      "name Shehreen\n",
      "age 18\n",
      "city Lahore\n",
      "hobbies ['cleaning', 'gardening', 'colouring']\n"
     ]
    }
   ],
   "source": [
    "#SHEHREEN HUSSAIN\n",
    "#ROLL NUMBER : FA24-BBD-081\n",
    "#SECTION : A\n",
    "\n",
    "\n",
    "#PART A\n",
    "information = {'name' : 'Shehreen' , 'age': 18 , 'city' : 'Lahore' , 'hobbies' : ['cleaning', 'gardening' , 'colouring']}\n",
    "for key, value in information.items():\n",
    "    print(key, value)"
   ]
  },
  {
   "cell_type": "code",
   "execution_count": 4,
   "id": "dd62d4c3-8d2f-4451-8d0c-8b6f3e797ab8",
   "metadata": {},
   "outputs": [
    {
     "name": "stdout",
     "output_type": "stream",
     "text": [
      "{'Hello': 1, 'guys,': 1, 'how': 2, 'are': 1, 'you': 1, 'and': 1, 'is': 1, 'the': 1, 'condition': 1, 'of': 1, 'smog': 1, 'in': 1, 'lahore?': 1}\n"
     ]
    }
   ],
   "source": [
    "#PART B \n",
    "\n",
    "text = \"Hello guys, how are you and how is the condition of smog in lahore?\"\n",
    "words = text.split()\n",
    "word_count = {}\n",
    "for word in words:\n",
    "    # If the word is already in the dictionary, increment its count\n",
    "    if word in word_count:\n",
    "        word_count[word] += 1\n",
    "    # If the word is not in the dictionary, add it with a count of 1\n",
    "    else:\n",
    "        word_count[word] = 1\n",
    "\n",
    "# Print the word frequencies\n",
    "print(word_count)\n",
    "\n"
   ]
  },
  {
   "cell_type": "code",
   "execution_count": 27,
   "id": "c1aceca5-2947-4873-8cf3-cd69ad0763ae",
   "metadata": {},
   "outputs": [
    {
     "name": "stdout",
     "output_type": "stream",
     "text": [
      "Initial Inventory:\n",
      "Apples: 12\n",
      "Bananas: 6\n",
      "\n",
      "Updated Inventory:\n",
      "Apples: 16\n",
      "Bananas: 7\n"
     ]
    }
   ],
   "source": [
    "#PART C\n",
    "\n",
    "inventory = {'Apples' : 12,\n",
    "             'Bananas' : 6}\n",
    "\n",
    "print(\"Initial Inventory:\")\n",
    "for item, quantity in inventory.items():\n",
    "    print(f\"{item}: {quantity}\")\n",
    "inventory[\"Apples\"] += 4\n",
    "inventory[\"Bananas\"] += 1\n",
    "\n",
    "print(\"\\nUpdated Inventory:\")\n",
    "for item, quantity in inventory.items():\n",
    "    print(f\"{item}: {quantity}\")\n",
    "\n",
    "\n"
   ]
  },
  {
   "cell_type": "code",
   "execution_count": 35,
   "id": "79b1f480-90d2-411b-b008-42f62c053431",
   "metadata": {},
   "outputs": [
    {
     "name": "stdout",
     "output_type": "stream",
     "text": [
      "The most popular category is 'Fruits' with 4 orders.\n"
     ]
    }
   ],
   "source": [
    "#part d\n",
    "\n",
    "orders = [\"Fruits\", \"Fruits\", \"Vegetables\", \"Fruits\", \"Vegetables\", \"Dairy\", \"Dairy\", \"Fruits\"]\n",
    "\n",
    "category_counts = {}\n",
    "for category in orders:\n",
    "    if category in category_counts:\n",
    "        category_counts[category] += 1\n",
    "    else:\n",
    "        category_counts[category] = 1\n",
    "\n",
    "# Find the most popular category\n",
    "most_popular = max(category_counts, key=category_counts.get)\n",
    "print(f\"The most popular category is '{most_popular}' with {category_counts[most_popular]} orders.\")"
   ]
  },
  {
   "cell_type": "code",
   "execution_count": 6,
   "id": "5daaf4f2-0a2a-4756-8943-9e144ea1cd64",
   "metadata": {},
   "outputs": [
    {
     "name": "stdout",
     "output_type": "stream",
     "text": [
      "86.0\n"
     ]
    }
   ],
   "source": [
    "#part e \n",
    "\n",
    "grades = {'Asma' : 88 , 'Alyna' : 90 , 'Maira' : 80}\n",
    "sum_of_grades = sum(grades.values())\n",
    "num_of_students = len(grades)\n",
    "average = sum_of_grades/num_of_students \n",
    "\n",
    "print(average)"
   ]
  },
  {
   "cell_type": "code",
   "execution_count": 43,
   "id": "6c089eae-7f57-4fe7-9d4f-f3e206aa5fd4",
   "metadata": {},
   "outputs": [
    {
     "name": "stdout",
     "output_type": "stream",
     "text": [
      "Total Inventory Value: 57.0\n",
      "Low stock: Oranges\n"
     ]
    }
   ],
   "source": [
    "#part f\n",
    "\n",
    "inventory = {\n",
    "    \"Apples\": {\"quantity\": 16, \"price\": 2.0},\n",
    "    \"Bananas\": {\"quantity\": 5, \"price\": 1.5},\n",
    "}\n",
    "\n",
    "def add_product(name, quantity, price):\n",
    "    inventory[name] = {\"quantity\": quantity, \"price\": price}\n",
    "\n",
    "def update_quantity(name, quantity):\n",
    "    if name in inventory:\n",
    "        inventory[name][\"quantity\"] += quantity\n",
    "\n",
    "def total_value():\n",
    "    total = 0\n",
    "    for product in inventory:\n",
    "        total += inventory[product][\"quantity\"] * inventory[product][\"price\"]\n",
    "    return total\n",
    "\n",
    "def low_stock():\n",
    "    for product, info in inventory.items():\n",
    "        if info[\"quantity\"] < 5:\n",
    "            print(f\"Low stock: {product}\")\n",
    "            \n",
    "add_product(\"Oranges\", 3, 2.5) \n",
    "update_quantity(\"Apples\", 5)    \n",
    "print(\"Total Inventory Value:\", total_value()) \n",
    "low_stock()  "
   ]
  },
  {
   "cell_type": "code",
   "execution_count": 8,
   "id": "bd079721-b983-49f8-b0ee-20e6106bde96",
   "metadata": {},
   "outputs": [
    {
     "name": "stdout",
     "output_type": "stream",
     "text": [
      "\n",
      "1. Average Grade for Each Student\n",
      "2. Find Highest and Lowest Grades in a Subject\n",
      "3. Sort Students by Average Grade\n",
      "4. Exit\n"
     ]
    },
    {
     "name": "stdin",
     "output_type": "stream",
     "text": [
      "Choose an option (1-4):  4\n"
     ]
    }
   ],
   "source": [
    "\n",
    "\n",
    "students = {\n",
    "    \"asma\": {\"math\": 75, \"science\": 60, \"english\": 88},\n",
    "    \"alyna\": {\"math\": 78, \"science\": 85, \"english\": 72},\n",
    "    \"maira\": {\"math\": 44, \"science\": 64, \"english\": 81},\n",
    "}\n",
    "\n",
    "\n",
    "def average_grade(grades):\n",
    "    return sum(grades.values()) / len(grades)\n",
    "\n",
    "def subject_grades(subject):\n",
    "    highest = None\n",
    "    lowest = None\n",
    "    for name, grades in students.items():\n",
    "        grade = grades[subject]\n",
    "        if highest is None or grade > highest[1]:\n",
    "            highest = (name, grade)\n",
    "        if lowest is None or grade < lowest[1]:\n",
    "            lowest = (name, grade)\n",
    "    return highest, lowest\n",
    "\n",
    "\n",
    "def sorted_by_average():\n",
    "    sorted_students = []\n",
    "    for name, grades in students.items():\n",
    "        avg = average_grade(grades)\n",
    "        sorted_students.append((name, avg))\n",
    "    sorted_students.sort(key=lambda x: x[1], reverse=True)\n",
    "    return sorted_students\n",
    "\n",
    "while True:\n",
    "    print(\"\\n1. Average Grade for Each Student\")\n",
    "    print(\"2. Find Highest and Lowest Grades in a Subject\")\n",
    "    print(\"3. Sort Students by Average Grade\")\n",
    "    print(\"4. Exit\")\n",
    "    \n",
    "    choice = input(\"Choose an option (1-4): \")\n",
    "\n",
    "    if choice == \"1\":\n",
    "        for name, grades in students.items():\n",
    "            avg = average_grade(grades)\n",
    "            print(f\"{name}: Average Grade = {avg:.2f}\")\n",
    "    elif choice == \"2\":\n",
    "        subject = input(\"Enter subject (math, science, english): \")\n",
    "        if subject in next(iter(students.values())):\n",
    "            highest, lowest = subject_grades(subject)\n",
    "            print(f\"Highest grade in {subject}: {highest[0]} with {highest[1]}\")\n",
    "            print(f\"Lowest grade in {subject}: {lowest[0]} with {lowest[1]}\")\n",
    "        else:\n",
    "            print(\"Invalid subject.\")\n",
    "    elif choice == \"3\":\n",
    "        sorted_students = sorted_by_average()\n",
    "        print(\"Students sorted by average grade:\")\n",
    "        for name, avg in sorted_students:\n",
    "            print(f\"{name}: Average Grade = {avg:.2f}\")\n",
    "    elif choice == \"4\":\n",
    "        break\n",
    "    else:\n",
    "        print(\"Invalid choice, try again.\")            "
   ]
  },
  {
   "cell_type": "code",
   "execution_count": null,
   "id": "683ac153-9ec4-4c6d-b830-ff5dceca3dba",
   "metadata": {},
   "outputs": [
    {
     "name": "stdin",
     "output_type": "stream",
     "text": [
      "\n",
      "1.Add 2.Remove 3.Checkout 4.Exit:  add\n",
      "\n",
      "1.Add 2.Remove 3.Checkout 4.Exit:  remove\n",
      "\n",
      "1.Add 2.Remove 3.Checkout 4.Exit:  exit\n",
      "\n",
      "1.Add 2.Remove 3.Checkout 4.Exit:  \n",
      "\n",
      "1.Add 2.Remove 3.Checkout 4.Exit:  exit.\n"
     ]
    }
   ],
   "source": [
    "#part h \n",
    "\n",
    "products = {\"apple\": [44, 50], \"banana\": [0.80, 30], \"orange\": [1.50, 20]}\n",
    "cart = {}\n",
    "\n",
    "def add_to_cart(p, q):\n",
    "    if p in products and products[p][1] >= q: cart[p] = cart.get(p, 0) + q; products[p][1] -= q\n",
    "    else: print(\"Not enough stock.\")\n",
    "\n",
    "def remove_from_cart(p, q):\n",
    "    if p in cart and cart[p] >= q: cart[p] -= q; products[p][1] += q; (cart.pop(p) if cart[p] == 0 else None)\n",
    "    else: print(\"Invalid or insufficient quantity.\")\n",
    "\n",
    "def total_cost():\n",
    "    t = sum(products[p][0] * q for p, q in cart.items())\n",
    "    return t * 0.9 * 1.08 \n",
    "\n",
    "while True:\n",
    "    choice = input(\"\\n1.Add 2.Remove 3.Checkout 4.Exit: \")\n",
    "    if choice == \"1\": add_to_cart(input(\"Product: \"), int(input(\"Quantity: \")))\n",
    "    elif choice == \"2\": remove_from_cart(input(\"Product: \"), int(input(\"Quantity: \")))\n",
    "    elif choice == \"3\": print(f\"Total: ${total_cost():.2f}\"); break\n",
    "    elif choice == \"4\": break\n"
   ]
  },
  {
   "cell_type": "code",
   "execution_count": null,
   "id": "9a74c33f-b62c-436d-a832-847b6d6b0f20",
   "metadata": {},
   "outputs": [],
   "source": []
  }
 ],
 "metadata": {
  "kernelspec": {
   "display_name": "Python 3 (ipykernel)",
   "language": "python",
   "name": "python3"
  },
  "language_info": {
   "codemirror_mode": {
    "name": "ipython",
    "version": 3
   },
   "file_extension": ".py",
   "mimetype": "text/x-python",
   "name": "python",
   "nbconvert_exporter": "python",
   "pygments_lexer": "ipython3",
   "version": "3.12.4"
  }
 },
 "nbformat": 4,
 "nbformat_minor": 5
}
